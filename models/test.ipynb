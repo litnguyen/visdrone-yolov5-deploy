{
 "cells": [
  {
   "cell_type": "code",
   "execution_count": 2,
   "metadata": {},
   "outputs": [
    {
     "ename": "NameError",
     "evalue": "name '__file__' is not defined",
     "output_type": "error",
     "traceback": [
      "\u001b[1;31m---------------------------------------------------------------------------\u001b[0m",
      "\u001b[1;31mNameError\u001b[0m                                 Traceback (most recent call last)",
      "Cell \u001b[1;32mIn[2], line 18\u001b[0m\n\u001b[0;32m     15\u001b[0m \u001b[38;5;28;01mfrom\u001b[39;00m \u001b[38;5;21;01mtorch\u001b[39;00m\u001b[38;5;21;01m.\u001b[39;00m\u001b[38;5;21;01mcuda\u001b[39;00m \u001b[38;5;28;01mimport\u001b[39;00m amp\n\u001b[0;32m     16\u001b[0m \u001b[38;5;28;01mfrom\u001b[39;00m \u001b[38;5;21;01mtqdm\u001b[39;00m \u001b[38;5;28;01mimport\u001b[39;00m tqdm\n\u001b[1;32m---> 18\u001b[0m FILE \u001b[38;5;241m=\u001b[39m Path(\u001b[38;5;18m__file__\u001b[39m)\u001b[38;5;241m.\u001b[39mresolve()\n\u001b[0;32m     19\u001b[0m ROOT \u001b[38;5;241m=\u001b[39m FILE\u001b[38;5;241m.\u001b[39mparents[\u001b[38;5;241m1\u001b[39m]  \u001b[38;5;66;03m# YOLOv5 root directory\u001b[39;00m\n\u001b[0;32m     20\u001b[0m \u001b[38;5;28;01mif\u001b[39;00m \u001b[38;5;28mstr\u001b[39m(ROOT) \u001b[38;5;129;01mnot\u001b[39;00m \u001b[38;5;129;01min\u001b[39;00m sys\u001b[38;5;241m.\u001b[39mpath:\n",
      "\u001b[1;31mNameError\u001b[0m: name '__file__' is not defined"
     ]
    }
   ],
   "source": [
    "import argparse\n",
    "import os\n",
    "import subprocess\n",
    "import sys\n",
    "import time\n",
    "from copy import deepcopy\n",
    "from datetime import datetime\n",
    "from pathlib import Path\n",
    "\n",
    "import torch\n",
    "import torch.distributed as dist\n",
    "import torch.hub as hub\n",
    "import torch.optim.lr_scheduler as lr_scheduler\n",
    "import torchvision\n",
    "from torch.cuda import amp\n",
    "from tqdm import tqdm\n",
    "\n",
    "FILE = Path(__file__).resolve()\n",
    "ROOT = FILE.parents[1]  # YOLOv5 root directory\n",
    "if str(ROOT) not in sys.path:\n",
    "    sys.path.append(str(ROOT))  # add ROOT to PATH\n",
    "ROOT = Path(os.path.relpath(ROOT, Path.cwd()))  # relative\n",
    "\n",
    "from classify import val as validate\n",
    "from models.experimental import attempt_load\n",
    "from models.yolo import ClassificationModel, DetectionModel\n",
    "from utils.dataloaders import create_classification_dataloader\n",
    "from utils.general import (\n",
    "    DATASETS_DIR,\n",
    "    LOGGER,\n",
    "    TQDM_BAR_FORMAT,\n",
    "    WorkingDirectory,\n",
    "    check_git_info,\n",
    "    check_git_status,\n",
    "    check_requirements,\n",
    "    colorstr,\n",
    "    download,\n",
    "    increment_path,\n",
    "    init_seeds,\n",
    "    print_args,\n",
    "    yaml_save,\n",
    ")\n",
    "from utils.loggers import GenericLogger\n",
    "from utils.plots import imshow_cls\n",
    "from utils.torch_utils import (\n",
    "    ModelEMA,\n",
    "    de_parallel,\n",
    "    model_info,\n",
    "    reshape_classifier_output,\n",
    "    select_device,\n",
    "    smart_DDP,\n",
    "    smart_optimizer,\n",
    "    smartCrossEntropyLoss,\n",
    "    torch_distributed_zero_first,\n",
    ")\n",
    "from common import Conv"
   ]
  }
 ],
 "metadata": {
  "kernelspec": {
   "display_name": "base",
   "language": "python",
   "name": "python3"
  },
  "language_info": {
   "codemirror_mode": {
    "name": "ipython",
    "version": 3
   },
   "file_extension": ".py",
   "mimetype": "text/x-python",
   "name": "python",
   "nbconvert_exporter": "python",
   "pygments_lexer": "ipython3",
   "version": "3.11.5"
  }
 },
 "nbformat": 4,
 "nbformat_minor": 2
}
